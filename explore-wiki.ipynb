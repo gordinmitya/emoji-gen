{
 "cells": [
  {
   "cell_type": "code",
   "execution_count": null,
   "metadata": {},
   "outputs": [],
   "source": [
    "from bs4 import BeautifulSoup\n",
    "import json\n",
    "import os"
   ]
  },
  {
   "cell_type": "code",
   "execution_count": null,
   "metadata": {},
   "outputs": [],
   "source": [
    "import unicodedata\n",
    "\n",
    "def emoji_to_hex_string(emoji):\n",
    "    normalized_emoji = unicodedata.normalize('NFC', emoji)\n",
    "    code_points = [ord(char) for char in normalized_emoji]\n",
    "    hex_string = '-'.join([f'u{cp:04X}' for cp in code_points]).lower()\n",
    "    return hex_string\n",
    "\n",
    "def hex_string_to_emoji(hex_string):\n",
    "    code_points = hex_string.replace('u', '').split('-')\n",
    "    characters = [chr(int(cp, 16)) for cp in code_points]\n",
    "    emoji = ''.join(characters)\n",
    "    return emoji\n",
    "\n",
    "emoji = \"😵‍💫\"\n",
    "hex_string = emoji_to_hex_string(emoji)\n",
    "print(hex_string)\n",
    "emoji = hex_string_to_emoji(hex_string)\n",
    "print(emoji)\n"
   ]
  },
  {
   "cell_type": "code",
   "execution_count": null,
   "metadata": {},
   "outputs": [],
   "source": [
    "data = json.load(open('data/wiki-raw/people.json'))"
   ]
  },
  {
   "cell_type": "code",
   "execution_count": null,
   "metadata": {},
   "outputs": [],
   "source": [
    "FOLDER = 'data/wiki-descriptions'\n",
    "os.makedirs(FOLDER, exist_ok=True)"
   ]
  },
  {
   "cell_type": "code",
   "execution_count": null,
   "metadata": {},
   "outputs": [],
   "source": [
    "for subcat in data['subCategories']:\n",
    "    for emoji in subcat['emoji']:\n",
    "        hex_string = emoji_to_hex_string(emoji['code'])\n",
    "        txt_description = BeautifulSoup(emoji['description'], 'html.parser').get_text()\n",
    "        with open(f'{FOLDER}/{hex_string}.txt', 'w') as f:\n",
    "            f.write(txt_description)"
   ]
  },
  {
   "cell_type": "code",
   "execution_count": null,
   "metadata": {},
   "outputs": [],
   "source": []
  },
  {
   "cell_type": "code",
   "execution_count": null,
   "metadata": {},
   "outputs": [],
   "source": []
  }
 ],
 "metadata": {
  "kernelspec": {
   "display_name": ".venv",
   "language": "python",
   "name": "python3"
  },
  "language_info": {
   "codemirror_mode": {
    "name": "ipython",
    "version": 3
   },
   "file_extension": ".py",
   "mimetype": "text/x-python",
   "name": "python",
   "nbconvert_exporter": "python",
   "pygments_lexer": "ipython3",
   "version": "3.12.3"
  }
 },
 "nbformat": 4,
 "nbformat_minor": 2
}
