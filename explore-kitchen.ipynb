{
 "cells": [
  {
   "cell_type": "code",
   "execution_count": null,
   "metadata": {},
   "outputs": [],
   "source": [
    "import json\n",
    "import unicodedata"
   ]
  },
  {
   "cell_type": "code",
   "execution_count": null,
   "metadata": {},
   "outputs": [],
   "source": [
    "raw = json.load(open('metadata.json'))"
   ]
  },
  {
   "cell_type": "code",
   "execution_count": null,
   "metadata": {},
   "outputs": [],
   "source": [
    "print('total of ', len(raw['knownSupportedEmoji']))\n",
    "\n",
    "example = raw['knownSupportedEmoji'][2]\n",
    "emoji_character = chr(int(example, 16))\n",
    "print('example: ', example, emoji_character)"
   ]
  },
  {
   "cell_type": "code",
   "execution_count": null,
   "metadata": {},
   "outputs": [],
   "source": [
    "raw['data'].keys()"
   ]
  },
  {
   "cell_type": "code",
   "execution_count": null,
   "metadata": {},
   "outputs": [],
   "source": [
    "raw['data']['2705']"
   ]
  },
  {
   "cell_type": "code",
   "execution_count": null,
   "metadata": {},
   "outputs": [],
   "source": [
    "result = {cp: dict() for cp in raw['data'].keys()}\n",
    "\n",
    "for right_cp, dp in raw['data'].items():\n",
    "    assert right_cp == dp['emojiCodepoint']\n",
    "    for left_cp, combinations in dp['combinations'].items():\n",
    "        latest = [c for c in combinations if c['isLatest']][0]\n",
    "        assert latest['isLatest']\n",
    "        rcp = latest['rightEmojiCodepoint']\n",
    "        lcp = latest['leftEmojiCodepoint']\n",
    "        result[right_cp][left_cp] = latest['gStaticUrl']\n",
    "\n",
    "len(result['2615'])"
   ]
  },
  {
   "cell_type": "code",
   "execution_count": null,
   "metadata": {},
   "outputs": [],
   "source": [
    "urls = set()\n",
    "\n",
    "for right_cp, dp in result.items():\n",
    "    for left_cp, alt in dp.items():\n",
    "        if left_cp in result and right_cp in result[left_cp]:\n",
    "            assert result[left_cp][right_cp] == result[right_cp][left_cp]\n",
    "            url = result[right_cp][left_cp]\n",
    "            base, name = url.split('/')[-2:]\n",
    "            assert base == name.split('_')[0]\n",
    "\n",
    "            rcpu = '-'.join(['u' + c for c in right_cp.split('-')])\n",
    "            lcpu = '-'.join(['u' + c for c in left_cp.split('-')])\n",
    "            assert rcpu in name\n",
    "            assert lcpu in name\n",
    "\n",
    "            urls.add(url)\n",
    "        else:\n",
    "            print(right_cp, left_cp, alt)"
   ]
  },
  {
   "cell_type": "code",
   "execution_count": null,
   "metadata": {},
   "outputs": [],
   "source": [
    "print(len(urls))"
   ]
  },
  {
   "cell_type": "code",
   "execution_count": null,
   "metadata": {},
   "outputs": [],
   "source": []
  }
 ],
 "metadata": {
  "kernelspec": {
   "display_name": ".venv",
   "language": "python",
   "name": "python3"
  },
  "language_info": {
   "codemirror_mode": {
    "name": "ipython",
    "version": 3
   },
   "file_extension": ".py",
   "mimetype": "text/x-python",
   "name": "python",
   "nbconvert_exporter": "python",
   "pygments_lexer": "ipython3",
   "version": "3.12.3"
  }
 },
 "nbformat": 4,
 "nbformat_minor": 2
}
